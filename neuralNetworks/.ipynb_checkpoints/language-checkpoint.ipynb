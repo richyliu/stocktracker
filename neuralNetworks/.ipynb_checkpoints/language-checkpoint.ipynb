{
 "cells": [
  {
   "cell_type": "code",
   "execution_count": 1,
   "metadata": {
    "collapsed": true
   },
   "outputs": [],
   "source": [
    "# http://1000mostcommonwords.com/1000-most-common-swahili-words/\n",
    "# console.clear(); list = []; for (let a of $$('table[width=\"402\"] tbody tr')) {list.push(a.childNodes[3].innerHTML)}; console.log(list.join('\\n'));"
   ]
  },
  {
   "cell_type": "code",
   "execution_count": 2,
   "metadata": {
    "collapsed": true
   },
   "outputs": [],
   "source": [
    "import numpy\n",
    "import matplotlib.pyplot\n",
    "from easynet import NeuralNetwork\n",
    "\n",
    "%matplotlib inline"
   ]
  },
  {
   "cell_type": "code",
   "execution_count": 3,
   "metadata": {
    "collapsed": false
   },
   "outputs": [],
   "source": [
    "def getWordArray(word):\n",
    "    chars = []\n",
    "    for i in range(NUM_CHARS):\n",
    "        arr = numpy.full(27, 0.01)\n",
    "        if len(word) > i:\n",
    "            if word[i] == ' ':\n",
    "                arr[0] = 0.99\n",
    "            else:\n",
    "                arr[ord(word[i]) - 97] = 0.99\n",
    "        chars = numpy.append(chars, arr)\n",
    "\n",
    "    return chars"
   ]
  },
  {
   "cell_type": "code",
   "execution_count": 4,
   "metadata": {
    "collapsed": false
   },
   "outputs": [],
   "source": [
    "TRAINING_LENGTH = 900\n",
    "TESTING_LENGTH = 100\n",
    "\n",
    "f = open('language_dtb/english.txt', 'r')\n",
    "english = f.read().lower().split('\\n')\n",
    "englishTraining = english[:TRAINING_LENGTH]\n",
    "englishTest = english[TRAINING_LENGTH:TRAINING_LENGTH + int(TESTING_LENGTH/2)]\n",
    "\n",
    "f = open('language_dtb/swahili.txt', 'r')\n",
    "swahili = f.read().lower().split('\\n')\n",
    "swahiliTraining = swahili[:TRAINING_LENGTH]\n",
    "swahiliTest = swahili[TRAINING_LENGTH:TRAINING_LENGTH + int(TESTING_LENGTH/2)]"
   ]
  },
  {
   "cell_type": "code",
   "execution_count": 12,
   "metadata": {
    "collapsed": false
   },
   "outputs": [
    {
     "name": "stdout",
     "output_type": "stream",
     "text": [
      "correct: 50 incorrect: 50\n"
     ]
    }
   ],
   "source": [
    "NUM_CHARS = 5\n",
    "NUM_EPOCHS = 1\n",
    "nn = NeuralNetwork(NUM_CHARS * 27, 100, 2, 0.6)\n",
    "\n",
    "for _ in range(NUM_EPOCHS):\n",
    "    # train the nn\n",
    "    for word in englishTraining:\n",
    "        nn.train([getWordArray(word)], [0.01, 0.99])\n",
    "    for word in swahiliTraining:\n",
    "        nn.train([getWordArray(word)], [0.99, 0.01])\n",
    "\n",
    "\n",
    "# test the nn\n",
    "correct = 0\n",
    "for word in englishTest:\n",
    "    result = nn.query([getWordArray(word)])\n",
    "    if result[0] > result[1]:\n",
    "        correct += 1\n",
    "\n",
    "for word in swahiliTest:\n",
    "    result = nn.query([getWordArray(word)])\n",
    "    if result[0] < result[1]:\n",
    "        correct += 1\n",
    "\n",
    "print('correct:', correct, 'incorrect:', TESTING_LENGTH - correct)"
   ]
  },
  {
   "cell_type": "code",
   "execution_count": 10,
   "metadata": {
    "collapsed": false
   },
   "outputs": [
    {
     "data": {
      "text/plain": [
       "array([[ 0.99638655],\n",
       "       [ 0.00153792]])"
      ]
     },
     "execution_count": 10,
     "metadata": {},
     "output_type": "execute_result"
    }
   ],
   "source": [
    "nn.query([getWordArray('kwa')])"
   ]
  },
  {
   "cell_type": "code",
   "execution_count": 253,
   "metadata": {
    "collapsed": false
   },
   "outputs": [
    {
     "name": "stdout",
     "output_type": "stream",
     "text": [
      "11\n"
     ]
    }
   ],
   "source": [
    "longest = 0\n",
    "for word in englishTraining:\n",
    "    if len(word) > longest:\n",
    "        longest = len(word)\n",
    "print(longest)"
   ]
  },
  {
   "cell_type": "code",
   "execution_count": null,
   "metadata": {
    "collapsed": true
   },
   "outputs": [],
   "source": []
  }
 ],
 "metadata": {
  "anaconda-cloud": {},
  "kernelspec": {
   "display_name": "Python [conda root]",
   "language": "python",
   "name": "conda-root-py"
  },
  "language_info": {
   "codemirror_mode": {
    "name": "ipython",
    "version": 3
   },
   "file_extension": ".py",
   "mimetype": "text/x-python",
   "name": "python",
   "nbconvert_exporter": "python",
   "pygments_lexer": "ipython3",
   "version": "3.5.2"
  }
 },
 "nbformat": 4,
 "nbformat_minor": 1
}
