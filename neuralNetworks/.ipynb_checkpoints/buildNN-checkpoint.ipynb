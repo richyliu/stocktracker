{
 "cells": [
  {
   "cell_type": "code",
   "execution_count": 1,
   "metadata": {
    "collapsed": false
   },
   "outputs": [],
   "source": [
    "import numpy\n",
    "import matplotlib.pyplot\n",
    "from easynet import NeuralNetwork\n",
    "\n",
    "%matplotlib inline"
   ]
  },
  {
   "cell_type": "code",
   "execution_count": 2,
   "metadata": {
    "collapsed": false
   },
   "outputs": [],
   "source": [
    "# create a neural network\n",
    "n = NeuralNetwork(784, 100, 10, 0.3)\n",
    "\n",
    "# load the training data\n",
    "trainingDataFile = open('mnist_dataset/mnist_train_100.csv', 'r')\n",
    "trainingDataList = trainingDataFile.readlines()\n",
    "trainingDataFile.close()\n",
    "\n",
    "\n",
    "# rescaling data and training nn\n",
    "for d in trainingDataList:\n",
    "    values = d.split(',')\n",
    "    \n",
    "    # scale to within 0.01 to 1.0\n",
    "    inputs = (numpy.asfarray(values[1:]) / 255.0 * 0.99) + 0.01\n",
    "    # create target of all 0.01 except expected which is 0.99\n",
    "    targets = numpy.zeros(10) + 0.01\n",
    "    targets[int(values[0])] = 0.99\n",
    "    \n",
    "    n.train(inputs, targets)"
   ]
  },
  {
   "cell_type": "code",
   "execution_count": 3,
   "metadata": {
    "collapsed": false
   },
   "outputs": [],
   "source": [
    "# load the testing data\n",
    "testingDataFile = open('mnist_dataset/mnist_test_10.csv', 'r')\n",
    "testingDataList = testingDataFile.readlines()\n",
    "testingDataFile.close()"
   ]
  },
  {
   "cell_type": "code",
   "execution_count": 4,
   "metadata": {
    "collapsed": false,
    "scrolled": true
   },
   "outputs": [
    {
     "data": {
      "text/plain": [
       "array([[ 0.02188837],\n",
       "       [ 0.90617912],\n",
       "       [ 0.04854938],\n",
       "       [ 0.03019903],\n",
       "       [ 0.01652579],\n",
       "       [ 0.05374187],\n",
       "       [ 0.02616833],\n",
       "       [ 0.09290674],\n",
       "       [ 0.09472169],\n",
       "       [ 0.0019794 ]])"
      ]
     },
     "execution_count": 4,
     "metadata": {},
     "output_type": "execute_result"
    }
   ],
   "source": [
    "n.query((numpy.asfarray(values[1:]) / 255.0 * 0.99) + 0.01)"
   ]
  },
  {
   "cell_type": "code",
   "execution_count": null,
   "metadata": {
    "collapsed": false
   },
   "outputs": [],
   "source": []
  },
  {
   "cell_type": "code",
   "execution_count": null,
   "metadata": {
    "collapsed": true
   },
   "outputs": [],
   "source": []
  }
 ],
 "metadata": {
  "anaconda-cloud": {},
  "kernelspec": {
   "display_name": "Python [conda root]",
   "language": "python",
   "name": "conda-root-py"
  },
  "language_info": {
   "codemirror_mode": {
    "name": "ipython",
    "version": 3
   },
   "file_extension": ".py",
   "mimetype": "text/x-python",
   "name": "python",
   "nbconvert_exporter": "python",
   "pygments_lexer": "ipython3",
   "version": "3.5.2"
  }
 },
 "nbformat": 4,
 "nbformat_minor": 1
}
