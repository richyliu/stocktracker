{
 "cells": [
  {
   "cell_type": "code",
   "execution_count": 1,
   "metadata": {
    "collapsed": true
   },
   "outputs": [],
   "source": [
    "import numpy\n",
    "import scipy.special\n",
    "import matplotlib.pyplot\n",
    "\n",
    "%matplotlib inline"
   ]
  },
  {
   "cell_type": "code",
   "execution_count": 2,
   "metadata": {
    "collapsed": false
   },
   "outputs": [],
   "source": [
    "class neuralNetwork:\n",
    "    def __init__(self, inputnodes, hiddennodes, outputnodes, learningRate):\n",
    "        # set number of nodes in input, hidden, and output layer\n",
    "        self.inodes = inputnodes\n",
    "        self.hnodes = hiddennodes\n",
    "        self.onodes = outputnodes\n",
    "        \n",
    "        # learning rate\n",
    "        self.lr = learningRate\n",
    "        \n",
    "        # activiation function (sigmoid)\n",
    "        self.activationFunction = lambda x: scipy.special.expit(x)\n",
    "        \n",
    "        # init weights\n",
    "        self.wih = numpy.random.normal(0.0, pow(self.hnodes, -0.5), (self.hnodes, self.inodes))\n",
    "        self.who = numpy.random.normal(0.0, pow(self.onodes, -0.5), (self.onodes, self.hnodes))\n",
    "    \n",
    "    \n",
    "    \n",
    "    def train(self, inputsList, targetsList):\n",
    "        # convert inputs and targets list into 2d array\n",
    "        inputs = numpy.array(inputsList, ndmin=2).T\n",
    "        targets = numpy.array(targetsList, ndmin=2).T\n",
    "        \n",
    "        # multiply weights with inputs\n",
    "        hiddenInputs = numpy.dot(self.wih, inputs)\n",
    "        # apply activation function\n",
    "        hiddenOutputs = self.activationFunction(hiddenInputs)\n",
    "        \n",
    "        # multiply weights with hidden outputs\n",
    "        finalInputs = numpy.dot(self.who, hiddenOutputs)\n",
    "        # apply activation function\n",
    "        finalOutputs = self.activationFunction(finalInputs)\n",
    "        \n",
    "        \n",
    "        # error is target - expected\n",
    "        outputErrors = targets - finalOutputs\n",
    "        \n",
    "        # hidden layer error is the output errors, split by weights, recombined at hidden nodes\n",
    "        hiddenErrors = numpy.dot(self.who.T, outputErrors)\n",
    "        \n",
    "        \n",
    "        # update weights between hidden and output nodes\n",
    "        self.who += self.lr * numpy.dot((outputErrors * finalOutputs * (1.0 - finalOutputs)), numpy.transpose(hiddenOutputs))\n",
    "        \n",
    "        # update weights between input and hidden nodes\n",
    "        self.wih += self.lr * numpy.dot((hiddenErrors * hiddenOutputs * (1.0 - hiddenOutputs)), numpy.transpose(inputs))\n",
    "    \n",
    "    \n",
    "    \n",
    "    def query(self, inputsList):\n",
    "        # convert inputs list into 2d array\n",
    "        inputs = numpy.array(inputsList, ndmin=2).T\n",
    "        \n",
    "        # multiply weights with inputs\n",
    "        hiddenInputs = numpy.dot(self.wih, inputs)\n",
    "        # apply activation function\n",
    "        hiddenOutputs = self.activationFunction(hiddenInputs)\n",
    "        \n",
    "        # multiply weights with hidden outputs\n",
    "        finalInputs = numpy.dot(self.who, hiddenOutputs)\n",
    "        # apply activation function\n",
    "        finalOutputs = self.activationFunction(finalInputs)\n",
    "        \n",
    "        return finalOutputs"
   ]
  },
  {
   "cell_type": "code",
   "execution_count": 3,
   "metadata": {
    "collapsed": false
   },
   "outputs": [],
   "source": [
    "# create a neural network\n",
    "n = neuralNetwork(784, 100, 10, 0.3)\n",
    "\n",
    "# load the training data\n",
    "trainingDataFile = open('mnist_dataset/mnist_train_100.csv', 'r')\n",
    "trainingDataList = trainingDataFile.readlines()\n",
    "trainingDataFile.close()\n",
    "\n",
    "\n",
    "# rescaling data and training nn\n",
    "for d in trainingDataList:\n",
    "    values = d.split(',')\n",
    "    \n",
    "    # scale to within 0.01 to 1.0\n",
    "    inputs = (numpy.asfarray(values[1:]) / 255.0 * 0.99) + 0.01\n",
    "    # create target of all 0.01 except expected which is 0.99\n",
    "    targets = numpy.zeros(10) + 0.01\n",
    "    targets[int(values[0])] = 0.99\n",
    "    \n",
    "    n.train(inputs, targets)"
   ]
  },
  {
   "cell_type": "code",
   "execution_count": 4,
   "metadata": {
    "collapsed": false
   },
   "outputs": [],
   "source": [
    "# load the testing data\n",
    "testingDataFile = open('mnist_dataset/mnist_test_10.csv', 'r')\n",
    "testingDataList = testingDataFile.readlines()\n",
    "testingDataFile.close()"
   ]
  },
  {
   "cell_type": "code",
   "execution_count": 5,
   "metadata": {
    "collapsed": false,
    "scrolled": true
   },
   "outputs": [
    {
     "data": {
      "text/plain": [
       "array([[ 0.0124332 ],\n",
       "       [ 0.8815092 ],\n",
       "       [ 0.03356988],\n",
       "       [ 0.05357091],\n",
       "       [ 0.00985855],\n",
       "       [ 0.04572536],\n",
       "       [ 0.02300951],\n",
       "       [ 0.07027352],\n",
       "       [ 0.14745792],\n",
       "       [ 0.00202555]])"
      ]
     },
     "execution_count": 5,
     "metadata": {},
     "output_type": "execute_result"
    }
   ],
   "source": [
    "n.query((numpy.asfarray(values[1:]) / 255.0 * 0.99) + 0.01)"
   ]
  },
  {
   "cell_type": "code",
   "execution_count": null,
   "metadata": {
    "collapsed": false
   },
   "outputs": [],
   "source": []
  },
  {
   "cell_type": "code",
   "execution_count": null,
   "metadata": {
    "collapsed": true
   },
   "outputs": [],
   "source": []
  }
 ],
 "metadata": {
  "anaconda-cloud": {},
  "kernelspec": {
   "display_name": "Python [conda root]",
   "language": "python",
   "name": "conda-root-py"
  },
  "language_info": {
   "codemirror_mode": {
    "name": "ipython",
    "version": 3
   },
   "file_extension": ".py",
   "mimetype": "text/x-python",
   "name": "python",
   "nbconvert_exporter": "python",
   "pygments_lexer": "ipython3",
   "version": "3.5.2"
  }
 },
 "nbformat": 4,
 "nbformat_minor": 1
}
