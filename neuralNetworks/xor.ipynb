{
 "cells": [
  {
   "cell_type": "code",
   "execution_count": 27,
   "metadata": {
    "collapsed": true
   },
   "outputs": [],
   "source": [
    "import random\n",
    "import numpy\n",
    "import scipy.special\n",
    "import matplotlib.pyplot\n",
    "\n",
    "%matplotlib inline"
   ]
  },
  {
   "cell_type": "code",
   "execution_count": 2,
   "metadata": {
    "collapsed": true
   },
   "outputs": [],
   "source": [
    "class neuralNetwork:\n",
    "    def __init__(self, inputnodes, hiddennodes, outputnodes, learningRate):\n",
    "        # set number of nodes in input, hidden, and output layer\n",
    "        self.inodes = inputnodes\n",
    "        self.hnodes = hiddennodes\n",
    "        self.onodes = outputnodes\n",
    "        \n",
    "        # learning rate\n",
    "        self.lr = learningRate\n",
    "        \n",
    "        # activiation function (sigmoid)\n",
    "        self.activationFunction = lambda x: scipy.special.expit(x)\n",
    "        \n",
    "        # init weights\n",
    "        self.wih = numpy.random.normal(0.0, pow(self.hnodes, -0.5), (self.hnodes, self.inodes))\n",
    "        self.who = numpy.random.normal(0.0, pow(self.onodes, -0.5), (self.onodes, self.hnodes))\n",
    "    \n",
    "    \n",
    "    \n",
    "    def train(self, inputsList, targetsList):\n",
    "        # convert inputs and targets list into 2d array\n",
    "        inputs = numpy.array(inputsList, ndmin=2).T\n",
    "        targets = numpy.array(targetsList, ndmin=2).T\n",
    "        \n",
    "        # multiply weights with inputs\n",
    "        hiddenInputs = numpy.dot(self.wih, inputs)\n",
    "        # apply activation function\n",
    "        hiddenOutputs = self.activationFunction(hiddenInputs)\n",
    "        \n",
    "        # multiply weights with hidden outputs\n",
    "        finalInputs = numpy.dot(self.who, hiddenOutputs)\n",
    "        # apply activation function\n",
    "        finalOutputs = self.activationFunction(finalInputs)\n",
    "        \n",
    "        \n",
    "        # error is target - expected\n",
    "        outputErrors = targets - finalOutputs\n",
    "        \n",
    "        # hidden layer error is the output errors, split by weights, recombined at hidden nodes\n",
    "        hiddenErrors = numpy.dot(self.who.T, outputErrors)\n",
    "        \n",
    "        \n",
    "        # update weights between hidden and output nodes\n",
    "        self.who += self.lr * numpy.dot((outputErrors * finalOutputs * (1.0 - finalOutputs)), numpy.transpose(hiddenOutputs))\n",
    "        \n",
    "        # update weights between input and hidden nodes\n",
    "        self.wih += self.lr * numpy.dot((hiddenErrors * hiddenOutputs * (1.0 - hiddenOutputs)), numpy.transpose(inputs))\n",
    "    \n",
    "    \n",
    "    \n",
    "    def query(self, inputsList):\n",
    "        # convert inputs list into 2d array\n",
    "        inputs = numpy.array(inputsList, ndmin=2).T\n",
    "        \n",
    "        # multiply weights with inputs\n",
    "        hiddenInputs = numpy.dot(self.wih, inputs)\n",
    "        # apply activation function\n",
    "        hiddenOutputs = self.activationFunction(hiddenInputs)\n",
    "        \n",
    "        # multiply weights with hidden outputs\n",
    "        finalInputs = numpy.dot(self.who, hiddenOutputs)\n",
    "        # apply activation function\n",
    "        finalOutputs = self.activationFunction(finalInputs)\n",
    "        \n",
    "        return finalOutputs"
   ]
  },
  {
   "cell_type": "code",
   "execution_count": 313,
   "metadata": {
    "collapsed": false
   },
   "outputs": [
    {
     "name": "stdout",
     "output_type": "stream",
     "text": [
      "correct 100\n",
      "incorrect 0\n"
     ]
    }
   ],
   "source": [
    "n = neuralNetwork(2, 5, 2, 0.1)\n",
    "\n",
    "for _ in range(10000):\n",
    "    a = random.choice([0.01, 0.99])\n",
    "    b = random.choice([0.01, 0.99])\n",
    "    n.train([a, b], [0.99 if a == b else 0.01, 0.01 if a == b else 0.99])\n",
    "\n",
    "\n",
    "correct = 0\n",
    "incorrect = 0\n",
    "for _ in range(100):\n",
    "    a = random.choice([0.01, 0.99])\n",
    "    b = random.choice([0.01, 0.99])\n",
    "    out = n.query([a, b])\n",
    "    out = 0 if out[0] > out[1] else 1\n",
    "    if int(a != b) == out:\n",
    "        correct += 1\n",
    "    else:\n",
    "        incorrect += 1\n",
    "\n",
    "print('correct', correct)\n",
    "print('incorrect', incorrect)"
   ]
  },
  {
   "cell_type": "code",
   "execution_count": null,
   "metadata": {
    "collapsed": false
   },
   "outputs": [],
   "source": []
  },
  {
   "cell_type": "code",
   "execution_count": null,
   "metadata": {
    "collapsed": true
   },
   "outputs": [],
   "source": []
  }
 ],
 "metadata": {
  "anaconda-cloud": {},
  "kernelspec": {
   "display_name": "Python [conda root]",
   "language": "python",
   "name": "conda-root-py"
  },
  "language_info": {
   "codemirror_mode": {
    "name": "ipython",
    "version": 3
   },
   "file_extension": ".py",
   "mimetype": "text/x-python",
   "name": "python",
   "nbconvert_exporter": "python",
   "pygments_lexer": "ipython3",
   "version": "3.5.2"
  }
 },
 "nbformat": 4,
 "nbformat_minor": 1
}
