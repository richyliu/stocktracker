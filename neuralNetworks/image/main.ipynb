{
 "cells": [
  {
   "cell_type": "code",
   "execution_count": 2,
   "metadata": {
    "collapsed": false
   },
   "outputs": [],
   "source": [
    "from PIL import Image\n",
    "import numpy as np\n",
    "import matplotlib.pyplot\n",
    "%matplotlib inline"
   ]
  },
  {
   "cell_type": "code",
   "execution_count": 44,
   "metadata": {
    "collapsed": true
   },
   "outputs": [],
   "source": [
    "def graphData(data, row, col):\n",
    "    shapedData = data.reshape((row, col))\n",
    "    matplotlib.pyplot.imshow(shapedData, cmap='Greys', interpolation='None', aspect='auto')"
   ]
  },
  {
   "cell_type": "code",
   "execution_count": 41,
   "metadata": {
    "collapsed": true
   },
   "outputs": [],
   "source": [
    "def getImage(location):\n",
    "    # load image\n",
    "    im = Image.open(location)\n",
    "    col, row = im.size\n",
    "    \n",
    "    # read image onto one-dimensional array, each item with 3 (RGB values)\n",
    "    data = np.zeros((row*col, 3))\n",
    "    pixels = im.load()\n",
    "\n",
    "    for i in range(row):\n",
    "        for j in range(col):\n",
    "            r,g,b = pixels[j, i]\n",
    "            data[i*col + j,:] = r,g,b\n",
    "    \n",
    "    # invert pixels and greyscale\n",
    "    bnw = [] # black and white\n",
    "    for d in data:\n",
    "        #bnw.append(-((d[0] + d[1] + d[2]) / 3 / 128) + 1) # normalize to between -1 and 1\n",
    "        bnw.append((d[0] + d[1] + d[2]) / 3 < 170)\n",
    "    bnw = np.array(bnw)\n",
    "    \n",
    "    return bnw"
   ]
  },
  {
   "cell_type": "code",
   "execution_count": 58,
   "metadata": {
    "collapsed": false
   },
   "outputs": [],
   "source": [
    "allData = []\n",
    "for i in range(4315, 4358):\n",
    "    correct = -1\n",
    "    if i < 4328:\n",
    "        correct = 1\n",
    "    elif i < 4338:\n",
    "        correct = 2\n",
    "    elif i < 4345:\n",
    "        correct = 3\n",
    "    elif i < 4353:\n",
    "        correct = 4\n",
    "    else:\n",
    "        correct = 5\n",
    "    allData.append([correct, getImage('new/IMG_' + str(i) + '.jpg')])"
   ]
  },
  {
   "cell_type": "code",
   "execution_count": 59,
   "metadata": {
    "collapsed": false
   },
   "outputs": [
    {
     "data": {
      "image/png": "[encoded data removed]",
      "text/plain": [
       "<matplotlib.figure.Figure at 0x10a964390>"
      ]
     },
     "metadata": {},
     "output_type": "display_data"
    }
   ],
   "source": [
    "graphData(allData[3][1], 150, 200)"
   ]
  },
  {
   "cell_type": "code",
   "execution_count": 61,
   "metadata": {
    "collapsed": false
   },
   "outputs": [
    {
     "data": {
      "image/png": "[encoded data removed]",
      "text/plain": [
       "<matplotlib.figure.Figure at 0x10d9bc358>"
      ]
     },
     "metadata": {},
     "output_type": "display_data"
    }
   ],
   "source": [
    "graphData(getImage('img.jpg'), 90, 120)"
   ]
  },
  {
   "cell_type": "code",
   "execution_count": null,
   "metadata": {
    "collapsed": true
   },
   "outputs": [],
   "source": []
  }
 ],
 "metadata": {
  "anaconda-cloud": {},
  "kernelspec": {
   "display_name": "Python [conda root]",
   "language": "python",
   "name": "conda-root-py"
  },
  "language_info": {
   "codemirror_mode": {
    "name": "ipython",
    "version": 3
   },
   "file_extension": ".py",
   "mimetype": "text/x-python",
   "name": "python",
   "nbconvert_exporter": "python",
   "pygments_lexer": "ipython3",
   "version": "3.5.2"
  }
 },
 "nbformat": 4,
 "nbformat_minor": 1
}
