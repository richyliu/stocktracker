{
 "cells": [
  {
   "cell_type": "code",
   "execution_count": 317,
   "metadata": {
    "collapsed": true
   },
   "outputs": [],
   "source": [
    "import math\n",
    "import numpy as np\n",
    "\n",
    "\n",
    "\n",
    "\n",
    "def halfAdder(a, b):\n",
    "    return bool(a) != bool(b), bool(a) and bool(b)\n",
    "\n",
    "\n",
    "def sigmoid(x):\n",
    "    return 1/(1+math.e**-x)\n",
    "\n",
    "def logit(x):\n",
    "    return np.log(np.divide(x, np.subtract(1, x)))\n",
    "\n",
    "\n",
    "\n",
    "\n",
    "class NeuralNetwork:\n",
    "    def __init__(self, numInput, numHidden, numOutput, step):\n",
    "        self.step = step\n",
    "        self.hidden = np.matrix(np.random.rand(numHidden, numInput))\n",
    "        self.outputs = np.matrix(np.random.rand(numOutput, numHidden))\n",
    "    \n",
    "    \n",
    "    \n",
    "    def train(self, data):\n",
    "        for d in data:\n",
    "            hiddenOut, output = self.forward(d[0])\n",
    "            self.backward(hiddenOut, output, d[1])\n",
    "    \n",
    "    \n",
    "    \n",
    "    # feed forward data from in to out\n",
    "    def forward(self, inputs):\n",
    "        # feed forward from input to hidden\n",
    "        hiddenOut = np.dot(self.hidden, inputs)\n",
    "        \n",
    "        # feed forward from hidden to output\n",
    "        output = np.dot(self.outputs, hiddenOut)\n",
    "        \n",
    "        return hiddenOut, output\n",
    "    \n",
    "    \n",
    "    \n",
    "    # calculate delta and backpropagate the errors\n",
    "    def backward(self, hiddenOut, outputs, outputExpected):\n",
    "        # calculate output deltas (errors)\n",
    "        outputDeltas = np.subtract(outputExpected, outputs)\n",
    "        print(outputDeltas)\n",
    "        # set output node weights\n",
    "        # multiply output weights with step\n",
    "        curWeights = np.dot(self.step, self.outputs)\n",
    "        allWeights = []\n",
    "        \n",
    "        # split the weights and multiply each with the corresponding delta\n",
    "        for i, w in enumerate(curWeights):\n",
    "            allWeights.append(np.dot(outputDeltas[i], w).tolist()[0])\n",
    "        # combined them back together into a matrix\n",
    "        self.outputs = np.matrix(allWeights)\n",
    "        \n",
    "        '''\n",
    "        # calculate hidden layer deltas by backpropagating through weights\n",
    "        # repeat the outputs so its easily multiplied by weights\n",
    "        organizedOutputs = np.repeat(np.matrix(logit(outputs)), len(self.outputs), axis=1).T\n",
    "        ###########################################  ^---- can't be outputExpected either, something else...\n",
    "        \n",
    "        # get average of the target x weight\n",
    "        hiddenExpected = np.divide(np.diag(np.dot(organizedOutputs, self.outputs)), len(self.outputs))\n",
    "        hiddenDeltas = np.subtract(hiddenExpected, hiddenOut)\n",
    "        \n",
    "        # set hidden layer node weights\n",
    "        # multiply hidden layer weights with step\n",
    "        curWeights = np.dot(self.step, self.hidden)\n",
    "        allWeights = []\n",
    "        \n",
    "        # split the weights and multiply each with the corresponding delta\n",
    "        for i, w in enumerate(curWeights):\n",
    "            allWeights.append(np.dot(hiddenDeltas[i], w).tolist()[0])\n",
    "        # combined them back together into a matrix\n",
    "        self.hidden = np.matrix(allWeights)'''"
   ]
  },
  {
   "cell_type": "code",
   "execution_count": 321,
   "metadata": {
    "collapsed": false
   },
   "outputs": [
    {
     "name": "stdout",
     "output_type": "stream",
     "text": [
      "[[ 0.25123144]\n",
      " [-1.56470593]]\n",
      "[[-0.03604913]\n",
      " [ 1.47054062]]\n",
      "[[ 0.]\n",
      " [ 0.]]\n",
      "[[ 0.]\n",
      " [ 0.]]\n",
      "[[ 1.]\n",
      " [ 0.]]\n",
      "[[ 0.]\n",
      " [ 0.]]\n",
      "[[ 0.]\n",
      " [ 1.]]\n",
      "[[ 0.]\n",
      " [ 1.]]\n",
      "[[ 1.]\n",
      " [ 0.]]\n",
      "[[ 1.]\n",
      " [ 0.]]\n"
     ]
    }
   ],
   "source": [
    "nn = NeuralNetwork(2, 3, 2, 0.1)\n",
    "\n",
    "trainData = []\n",
    "for _ in range(10):\n",
    "    a = np.random.randint(2)\n",
    "    b = np.random.randint(2)\n",
    "    trainData.append([[[a], [b]], [[int(halfAdder(a, b)[0])], [int(halfAdder(a, b)[1])]]])\n",
    "nn.train(trainData)"
   ]
  },
  {
   "cell_type": "code",
   "execution_count": null,
   "metadata": {
    "collapsed": false
   },
   "outputs": [],
   "source": []
  },
  {
   "cell_type": "code",
   "execution_count": null,
   "metadata": {
    "collapsed": false
   },
   "outputs": [],
   "source": []
  }
 ],
 "metadata": {
  "anaconda-cloud": {},
  "kernelspec": {
   "display_name": "Python [conda root]",
   "language": "python",
   "name": "conda-root-py"
  },
  "language_info": {
   "codemirror_mode": {
    "name": "ipython",
    "version": 3
   },
   "file_extension": ".py",
   "mimetype": "text/x-python",
   "name": "python",
   "nbconvert_exporter": "python",
   "pygments_lexer": "ipython3",
   "version": "3.5.2"
  }
 },
 "nbformat": 4,
 "nbformat_minor": 1
}
