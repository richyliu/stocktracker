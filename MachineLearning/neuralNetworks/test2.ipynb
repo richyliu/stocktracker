{
 "cells": [
  {
   "cell_type": "code",
   "execution_count": 1,
   "metadata": {
    "collapsed": false
   },
   "outputs": [],
   "source": [
    "import numpy as np\n",
    "\n",
    "\n",
    "\n",
    "\n",
    "class NeuralNetwork(object):\n",
    "    def __init__(self, numInputs, numOutputs):\n",
    "        self.numInputs = numInputs\n",
    "        self.numOutputs = numOutputs\n",
    "        self.numHidden = 3\n",
    "        \n",
    "        # build the neural network\n",
    "        # no need for inputs b/c they are always constant\n",
    "        self.hidden = [Synapse(self.numInputs) for _ in range(self.numHidden)]\n",
    "        self.output = [Synapse(self.numHidden) for _ in range(self.numOutputs)]\n",
    "    \n",
    "    \n",
    "    def run(self, inputs):\n",
    "        hiddenOut = []\n",
    "        \n",
    "        for syn in self.hidden:\n",
    "            hiddenOut.append(syn.forward(inputs))\n",
    "        \n",
    "        output = []\n",
    "        for syn in self.output:\n",
    "            output.append(syn.forward(hiddenOut))\n",
    "        \n",
    "        return output\n",
    "    \n",
    "    \n",
    "    def blah(self):\n",
    "        pass\n",
    "\n",
    "\n",
    "\n",
    "\n",
    "class Synapse(object):\n",
    "    def __init__(self, numAxons):\n",
    "        self.weight = np.random.rand(numAxons)\n",
    "        self.numAxons = numAxons\n",
    "    \n",
    "    \n",
    "    def forward(self, axons):\n",
    "        total = 0\n",
    "        \n",
    "        for i in range(len(axons)):\n",
    "            total = total + self.weight[i] * axons[i]\n",
    "        \n",
    "        return sigmoid(total)\n",
    "    \n",
    "    \n",
    "    def backpropogate(self):\n",
    "        pass\n",
    "    \n",
    "    \n",
    "    def changeWeight(self, weight):\n",
    "        self.weight = weight\n",
    "\n",
    "\n",
    "\n",
    "\n",
    "def sigmoid(x):\n",
    "    return 1 / (1 + np.exp(-x))\n"
   ]
  },
  {
   "cell_type": "code",
   "execution_count": 4,
   "metadata": {
    "collapsed": false
   },
   "outputs": [
    {
     "data": {
      "text/plain": [
       "[0.80799516050651321, 0.87158569943213537]"
      ]
     },
     "execution_count": 4,
     "metadata": {},
     "output_type": "execute_result"
    }
   ],
   "source": [
    "nn = NeuralNetwork(5, 2)\n",
    "nn.run([3, 4, 2, 5, 1])"
   ]
  },
  {
   "cell_type": "code",
   "execution_count": null,
   "metadata": {
    "collapsed": false
   },
   "outputs": [],
   "source": []
  },
  {
   "cell_type": "code",
   "execution_count": null,
   "metadata": {
    "collapsed": true
   },
   "outputs": [],
   "source": []
  }
 ],
 "metadata": {
  "anaconda-cloud": {},
  "kernelspec": {
   "display_name": "Python [conda root]",
   "language": "python",
   "name": "conda-root-py"
  },
  "language_info": {
   "codemirror_mode": {
    "name": "ipython",
    "version": 3
   },
   "file_extension": ".py",
   "mimetype": "text/x-python",
   "name": "python",
   "nbconvert_exporter": "python",
   "pygments_lexer": "ipython3",
   "version": "3.5.2"
  }
 },
 "nbformat": 4,
 "nbformat_minor": 1
}
